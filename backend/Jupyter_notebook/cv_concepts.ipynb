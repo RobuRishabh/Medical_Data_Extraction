{
 "cells": [
  {
   "cell_type": "code",
   "execution_count": 1,
   "id": "f0045c4b",
   "metadata": {},
   "outputs": [],
   "source": [
    "import cv2\n",
    "from PIL import Image"
   ]
  },
  {
   "cell_type": "code",
   "execution_count": 2,
   "id": "b74e56f8",
   "metadata": {},
   "outputs": [
    {
     "name": "stdout",
     "output_type": "stream",
     "text": [
      "[[206 205 206 ... 180 184 188]\n",
      " [206 209 208 ... 184 182 184]\n",
      " [209 213 206 ... 184 182 178]\n",
      " ...\n",
      " [210 209 209 ... 193 196 191]\n",
      " [208 208 208 ... 192 189 192]\n",
      " [211 208 209 ... 198 190 196]]\n"
     ]
    }
   ],
   "source": [
    "clear_img = cv2.imread(\"clear.png\", flags=cv2.IMREAD_GRAYSCALE)\n",
    "print(clear_img)"
   ]
  },
  {
   "cell_type": "code",
   "execution_count": 3,
   "id": "0c81cc86",
   "metadata": {},
   "outputs": [],
   "source": [
    "Image.fromarray(clear_img).show()"
   ]
  },
  {
   "cell_type": "code",
   "execution_count": 5,
   "id": "d1aa8bac",
   "metadata": {},
   "outputs": [],
   "source": [
    "_, new_img_clear = cv2.threshold(clear_img, 150, 255, cv2.THRESH_BINARY) #ignore the first value that's why __ \n",
    "Image.fromarray(new_img_clear).show()"
   ]
  },
  {
   "cell_type": "code",
   "execution_count": 6,
   "id": "9a87537a",
   "metadata": {},
   "outputs": [
    {
     "name": "stdout",
     "output_type": "stream",
     "text": [
      "[[206 207 211 ... 190 184 190]\n",
      " [208 209 209 ... 188 192 192]\n",
      " [210 210 210 ... 188 189 186]\n",
      " ...\n",
      " [142 152 139 ... 184 175 180]\n",
      " [150 140 143 ... 181 184 179]\n",
      " [147 141 145 ... 186 180 188]]\n"
     ]
    }
   ],
   "source": [
    "dark_img = cv2.imread(\"dark.png\", flags=cv2.IMREAD_GRAYSCALE)\n",
    "print(dark_img)"
   ]
  },
  {
   "cell_type": "code",
   "execution_count": 7,
   "id": "e465fca4",
   "metadata": {},
   "outputs": [],
   "source": [
    "Image.fromarray(dark_img).show()"
   ]
  },
  {
   "cell_type": "code",
   "execution_count": 19,
   "id": "a8148cc7",
   "metadata": {},
   "outputs": [],
   "source": [
    "_, new_img_dark = cv2.threshold(dark_img, 150, 255, cv2.THRESH_BINARY) #ignore the first value that's why __ \n",
    "Image.fromarray(new_img_dark).show()"
   ]
  },
  {
   "cell_type": "code",
   "execution_count": 20,
   "id": "b155cf06",
   "metadata": {},
   "outputs": [],
   "source": [
    "new_img_dark = cv2.adaptiveThreshold(dark_img, 255, cv2.ADAPTIVE_THRESH_GAUSSIAN_C,\n",
    "                     cv2.THRESH_BINARY, 61, 11)"
   ]
  },
  {
   "cell_type": "code",
   "execution_count": 22,
   "id": "46fc00d2",
   "metadata": {},
   "outputs": [],
   "source": [
    "Image.fromarray(new_img_dark).show()"
   ]
  },
  {
   "cell_type": "code",
   "execution_count": null,
   "id": "62079f94",
   "metadata": {},
   "outputs": [],
   "source": []
  }
 ],
 "metadata": {
  "kernelspec": {
   "display_name": "Python 3 (ipykernel)",
   "language": "python",
   "name": "python3"
  },
  "language_info": {
   "codemirror_mode": {
    "name": "ipython",
    "version": 3
   },
   "file_extension": ".py",
   "mimetype": "text/x-python",
   "name": "python",
   "nbconvert_exporter": "python",
   "pygments_lexer": "ipython3",
   "version": "3.11.5"
  }
 },
 "nbformat": 4,
 "nbformat_minor": 5
}
